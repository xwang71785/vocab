{
 "cells": [
  {
   "cell_type": "code",
   "execution_count": 1,
   "metadata": {},
   "outputs": [],
   "source": [
    "import numpy as np\n",
    "import pandas as pd"
   ]
  },
  {
   "cell_type": "code",
   "execution_count": 2,
   "metadata": {},
   "outputs": [],
   "source": [
    "df_vocab = pd.read_csv('vocab20000.csv')    # 读入20000单词词汇表"
   ]
  },
  {
   "cell_type": "code",
   "execution_count": 3,
   "metadata": {},
   "outputs": [
    {
     "data": {
      "text/html": [
       "<div>\n",
       "<style scoped>\n",
       "    .dataframe tbody tr th:only-of-type {\n",
       "        vertical-align: middle;\n",
       "    }\n",
       "\n",
       "    .dataframe tbody tr th {\n",
       "        vertical-align: top;\n",
       "    }\n",
       "\n",
       "    .dataframe thead th {\n",
       "        text-align: right;\n",
       "    }\n",
       "</style>\n",
       "<table border=\"1\" class=\"dataframe\">\n",
       "  <thead>\n",
       "    <tr style=\"text-align: right;\">\n",
       "      <th></th>\n",
       "      <th>Sequence</th>\n",
       "      <th>Word</th>\n",
       "      <th>Meaning</th>\n",
       "    </tr>\n",
       "  </thead>\n",
       "  <tbody>\n",
       "    <tr>\n",
       "      <th>17604</th>\n",
       "      <td>17605</td>\n",
       "      <td>gladly</td>\n",
       "      <td>adv. 乐意地；高兴地；欢喜地</td>\n",
       "    </tr>\n",
       "    <tr>\n",
       "      <th>17605</th>\n",
       "      <td>17606</td>\n",
       "      <td>doll</td>\n",
       "      <td>n. 洋娃娃；玩偶；无头脑的美丽女人</td>\n",
       "    </tr>\n",
       "    <tr>\n",
       "      <th>17606</th>\n",
       "      <td>17607</td>\n",
       "      <td>naturalist</td>\n",
       "      <td>n. 自然主义者；博物学者；（英）动物标本剥制者；买卖玩赏动物的商人</td>\n",
       "    </tr>\n",
       "    <tr>\n",
       "      <th>17607</th>\n",
       "      <td>17608</td>\n",
       "      <td>recycle</td>\n",
       "      <td>vt. 使再循环；使…重新利用</td>\n",
       "    </tr>\n",
       "    <tr>\n",
       "      <th>17608</th>\n",
       "      <td>17609</td>\n",
       "      <td>centralization</td>\n",
       "      <td>n. 集中化；中央集权管理</td>\n",
       "    </tr>\n",
       "  </tbody>\n",
       "</table>\n",
       "</div>"
      ],
      "text/plain": [
       "       Sequence            Word                             Meaning\n",
       "17604     17605          gladly                    adv. 乐意地；高兴地；欢喜地\n",
       "17605     17606            doll                  n. 洋娃娃；玩偶；无头脑的美丽女人\n",
       "17606     17607      naturalist  n. 自然主义者；博物学者；（英）动物标本剥制者；买卖玩赏动物的商人\n",
       "17607     17608         recycle                     vt. 使再循环；使…重新利用\n",
       "17608     17609  centralization                       n. 集中化；中央集权管理"
      ]
     },
     "execution_count": 3,
     "metadata": {},
     "output_type": "execute_result"
    }
   ],
   "source": [
    "df_vocab.tail()"
   ]
  },
  {
   "cell_type": "code",
   "execution_count": 4,
   "metadata": {},
   "outputs": [],
   "source": [
    "import datetime as dt \n",
    "# 根据当前时间的秒数设置为随机函数的种子\n",
    "now = dt.datetime.now()\n",
    "my_seed = now.second\n",
    "\n",
    "np.random.seed(my_seed)"
   ]
  },
  {
   "cell_type": "code",
   "execution_count": 5,
   "metadata": {},
   "outputs": [],
   "source": [
    "rounds = 5    # 测试高频词的范围，每轮1000词\n",
    "num_words = 10    # 挑选测试单词的个数\n",
    "w_list = list()    # 从20000单词中随即挑选10个单词序号\n",
    "for j in range(rounds):\n",
    "    for i in range(num_words):\n",
    "        start = 1000 * j + 1\n",
    "        end = start + 1000 \n",
    "        w_list.append(np.random.randint(start, end))    # 生成一个含有十个随机数的list"
   ]
  },
  {
   "cell_type": "code",
   "execution_count": 9,
   "metadata": {},
   "outputs": [
    {
     "name": "stdout",
     "output_type": "stream",
     "text": [
      "[5513, 5564, 5338, 5453, 5348, 5945, 5833, 5967, 5455, 5291, 6349, 6209, 6237, 6670, 6007, 6215, 6928, 6815, 6945, 6732, 7797, 7232, 7827, 7617, 7656, 7543, 7579, 7531, 7438, 7531, 8235, 8022, 8282, 8605, 8419, 8119, 8796, 8829, 8163, 8430, 9128, 9811, 9989, 9178, 9918, 9391, 9048, 9273, 9294, 9493]\n"
     ]
    }
   ],
   "source": [
    "print(w_list)"
   ]
  },
  {
   "cell_type": "code",
   "execution_count": 8,
   "metadata": {},
   "outputs": [],
   "source": [
    "w_list = [5000 + i for i in w_list]"
   ]
  },
  {
   "cell_type": "code",
   "execution_count": 8,
   "metadata": {},
   "outputs": [
    {
     "data": {
      "text/html": [
       "<div>\n",
       "<style scoped>\n",
       "    .dataframe tbody tr th:only-of-type {\n",
       "        vertical-align: middle;\n",
       "    }\n",
       "\n",
       "    .dataframe tbody tr th {\n",
       "        vertical-align: top;\n",
       "    }\n",
       "\n",
       "    .dataframe thead th {\n",
       "        text-align: right;\n",
       "    }\n",
       "</style>\n",
       "<table border=\"1\" class=\"dataframe\">\n",
       "  <thead>\n",
       "    <tr style=\"text-align: right;\">\n",
       "      <th></th>\n",
       "      <th>Word</th>\n",
       "      <th>Meaning</th>\n",
       "    </tr>\n",
       "  </thead>\n",
       "  <tbody>\n",
       "    <tr>\n",
       "      <th>327</th>\n",
       "      <td>add</td>\n",
       "      <td>vi. 加；增加；加起来；做加法</td>\n",
       "    </tr>\n",
       "    <tr>\n",
       "      <th>220</th>\n",
       "      <td>area</td>\n",
       "      <td>n. 面积；区域，地区；范围</td>\n",
       "    </tr>\n",
       "    <tr>\n",
       "      <th>8</th>\n",
       "      <td>it</td>\n",
       "      <td>pron. 它</td>\n",
       "    </tr>\n",
       "    <tr>\n",
       "      <th>166</th>\n",
       "      <td>start</td>\n",
       "      <td>vt. 开始；启动</td>\n",
       "    </tr>\n",
       "    <tr>\n",
       "      <th>441</th>\n",
       "      <td>possible</td>\n",
       "      <td>adj. 可能的；合理的；合适的</td>\n",
       "    </tr>\n",
       "    <tr>\n",
       "      <th>307</th>\n",
       "      <td>lead</td>\n",
       "      <td>n. 铅；领导；导线；榜样；石墨</td>\n",
       "    </tr>\n",
       "    <tr>\n",
       "      <th>706</th>\n",
       "      <td>seven</td>\n",
       "      <td>num. 七个，七</td>\n",
       "    </tr>\n",
       "    <tr>\n",
       "      <th>269</th>\n",
       "      <td>ever</td>\n",
       "      <td>adv. 曾经；究竟；永远</td>\n",
       "    </tr>\n",
       "    <tr>\n",
       "      <th>840</th>\n",
       "      <td>claim</td>\n",
       "      <td>vi. 提出要求</td>\n",
       "    </tr>\n",
       "    <tr>\n",
       "      <th>627</th>\n",
       "      <td>fire</td>\n",
       "      <td>n. 火；火灾；炉火；热情；炮火；激情；磨难</td>\n",
       "    </tr>\n",
       "  </tbody>\n",
       "</table>\n",
       "</div>"
      ],
      "text/plain": [
       "         Word                 Meaning\n",
       "327       add        vi. 加；增加；加起来；做加法\n",
       "220      area          n. 面积；区域，地区；范围\n",
       "8          it                 pron. 它\n",
       "166     start               vt. 开始；启动\n",
       "441  possible        adj. 可能的；合理的；合适的\n",
       "307      lead        n. 铅；领导；导线；榜样；石墨\n",
       "706     seven               num. 七个，七\n",
       "269      ever           adv. 曾经；究竟；永远\n",
       "840     claim                vi. 提出要求\n",
       "627      fire  n. 火；火灾；炉火；热情；炮火；激情；磨难"
      ]
     },
     "execution_count": 8,
     "metadata": {},
     "output_type": "execute_result"
    }
   ],
   "source": [
    "df_vocab.loc[w_list,['Word','Meaning']]"
   ]
  },
  {
   "cell_type": "code",
   "execution_count": 9,
   "metadata": {},
   "outputs": [
    {
     "name": "stdout",
     "output_type": "stream",
     "text": [
      "题号0: add\n"
     ]
    }
   ],
   "source": [
    "n = 0    # 测试题号\n",
    "w_list[n]\n",
    "word = df_vocab.loc[w_list[n], 'Word']\n",
    "print('题号%d: %s' %(n, word))    # 打印测试单词"
   ]
  },
  {
   "cell_type": "code",
   "execution_count": 10,
   "metadata": {},
   "outputs": [],
   "source": [
    "num_choice = 4    # 每题提供选项个数\n",
    "i = np.random.randint(num_choice)    # 生成一个[1,num_choice]之间的随机数\n",
    "correct_anwser = i + 1\n",
    "\n",
    "a_list = list()    # 候选答案在20000中的序号lsit\n",
    "a = w_list[n] - i    # 候选答案的起始序号\n",
    "for m in range(num_choice):\n",
    "    a_list.append(a + m)"
   ]
  },
  {
   "cell_type": "code",
   "execution_count": 11,
   "metadata": {},
   "outputs": [
    {
     "name": "stdout",
     "output_type": "stream",
     "text": [
      "324        vt. 阅读；读懂，理解\n",
      "325        n. 水平；水平面；标准\n",
      "326        vt. 允许；认可；给予\n",
      "327    vi. 加；增加；加起来；做加法\n",
      "Name: Meaning, dtype: object\n"
     ]
    }
   ],
   "source": [
    "o_list = df_vocab.loc[a_list, 'Meaning']    # 从20000单词表中提取候选答案\n",
    "print(o_list)    # 打印候选答案"
   ]
  },
  {
   "cell_type": "code",
   "execution_count": 12,
   "metadata": {},
   "outputs": [
    {
     "name": "stdout",
     "output_type": "stream",
     "text": [
      "324        vt. 阅读；读懂，理解\n",
      "325        n. 水平；水平面；标准\n",
      "326        vt. 允许；认可；给予\n",
      "327    vi. 加；增加；加起来；做加法\n",
      "Name: Meaning, dtype: object\n"
     ]
    }
   ],
   "source": [
    "print(o_list)"
   ]
  },
  {
   "cell_type": "code",
   "execution_count": 14,
   "metadata": {},
   "outputs": [
    {
     "name": "stdout",
     "output_type": "stream",
     "text": [
      "['vt. 阅读；读懂，理解', 'n. 水平；水平面；标准', 'vt. 允许；认可；给予', 'vi. 加；增加；加起来；做加法']\n"
     ]
    }
   ],
   "source": [
    "meaning = o_list.to_list()\n",
    "print(meaning)"
   ]
  },
  {
   "cell_type": "code",
   "execution_count": 15,
   "metadata": {},
   "outputs": [
    {
     "data": {
      "text/plain": [
       "'vt. 阅读；读懂，理解'"
      ]
     },
     "execution_count": 15,
     "metadata": {},
     "output_type": "execute_result"
    }
   ],
   "source": [
    "meaning[0]"
   ]
  }
 ],
 "metadata": {
  "kernelspec": {
   "display_name": "Python 3.7.13 ('base')",
   "language": "python",
   "name": "python3"
  },
  "language_info": {
   "codemirror_mode": {
    "name": "ipython",
    "version": 3
   },
   "file_extension": ".py",
   "mimetype": "text/x-python",
   "name": "python",
   "nbconvert_exporter": "python",
   "pygments_lexer": "ipython3",
   "version": "3.7.13"
  },
  "orig_nbformat": 4,
  "vscode": {
   "interpreter": {
    "hash": "cea0d58e83c2a42bdd5cd3b8b6c93c39945ad876a8952724c809736ef76c0dc4"
   }
  }
 },
 "nbformat": 4,
 "nbformat_minor": 2
}
